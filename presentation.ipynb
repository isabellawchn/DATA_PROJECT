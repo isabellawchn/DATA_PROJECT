{
 "cells": [
  {
   "cell_type": "markdown",
   "id": "64b67cf7-4229-4aee-a38c-66b028678cb4",
   "metadata": {
    "editable": true,
    "slideshow": {
     "slide_type": "slide"
    },
    "tags": []
   },
   "source": [
    "Hello World"
   ]
  },
  {
   "cell_type": "markdown",
   "id": "c5bf8a7f-e027-435a-9b0e-3e352bdbb68d",
   "metadata": {
    "editable": true,
    "slideshow": {
     "slide_type": "slide"
    },
    "tags": []
   },
   "source": [
    "good bye"
   ]
  },
  {
   "cell_type": "code",
   "execution_count": null,
   "id": "3600e608-c2dc-4a3f-9ccb-6d4d8727e822",
   "metadata": {
    "editable": true,
    "slideshow": {
     "slide_type": ""
    },
    "tags": []
   },
   "outputs": [],
   "source": []
  }
 ],
 "metadata": {
  "kernelspec": {
   "display_name": "Python 3 (ipykernel)",
   "language": "python",
   "name": "python3"
  },
  "language_info": {
   "codemirror_mode": {
    "name": "ipython",
    "version": 3
   },
   "file_extension": ".py",
   "mimetype": "text/x-python",
   "name": "python",
   "nbconvert_exporter": "python",
   "pygments_lexer": "ipython3",
   "version": "3.12.3"
  }
 },
 "nbformat": 4,
 "nbformat_minor": 5
}
